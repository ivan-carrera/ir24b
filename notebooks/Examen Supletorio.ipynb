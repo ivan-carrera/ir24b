{
 "cells": [
  {
   "metadata": {},
   "cell_type": "markdown",
   "source": [
    "## Examen Final de Recuperación de Información\n",
    "\n",
    "_Modalidad:_ Práctico\n",
    "\n",
    "_Entrega:_ Jupyter Notebook con código y análisis\n",
    "\n",
    "_Valor:_ 20 puntos\n",
    "\n",
    "### Objetivo:\n",
    "\n",
    "Desarrollar un sistema de recuperación de información basado en un corpus de documentos. Se deben aplicar técnicas de preprocesamiento, indexación, representación en espacio vectorial y evaluación de tres métodos de recuperación de información mediante benchmarking."
   ],
   "id": "f9b33b76701990f4"
  },
  {
   "metadata": {},
   "cell_type": "markdown",
   "source": [
    "## Parte 1: Selección y Preprocesamiento del Corpus (4 puntos)  \n",
    "Se trabajará con el corpus **20 Newsgroups**, un conjunto de documentos de texto extraídos de foros de discusión en diversas categorías. Se puede descargar con `sklearn.datasets.fetch_20newsgroups`.  \n",
    "\n",
    "1. **Carga del corpus** (1 punto): Descargar y visualizar ejemplos de textos.  \n",
    "2. **Preprocesamiento** (3 puntos): Implementar tokenización, eliminación de stopwords, lematización y vectorización del texto con TF-IDF.\n"
   ],
   "id": "ec4050a76b130f12"
  },
  {
   "metadata": {},
   "cell_type": "markdown",
   "source": [
    "## Parte 2: Indexación y Representación Vectorial (4 puntos)  \n",
    "1. Construir una representación en **espacio vectorial** usando **TF-IDF** (2 puntos).  \n",
    "2. Implementar una estructura de indexación eficiente como **Elasticsearch**, **FAISS** o **ChromaDB** (2 puntos)."
   ],
   "id": "404a92aceb5fc8e6"
  },
  {
   "metadata": {},
   "cell_type": "markdown",
   "source": [
    "## Parte 3: Aplicación de Técnicas de Recuperación de Información (6 puntos)  \n",
    "Implementar tres enfoques de recuperación de información y comparar su desempeño:  \n",
    "\n",
    "1. **Búsqueda exacta con modelo vectorial TF-IDF y similitud del coseno** (2 puntos).  \n",
    "2. **Búsqueda basada en Word2Vec** (2 puntos).  \n",
    "3. **Recuperación con un modelo basado en transformers (Ej: `sentence-transformers` para embeddings)** (2 puntos).  "
   ],
   "id": "8ac82cb3799a9457"
  },
  {
   "metadata": {},
   "cell_type": "markdown",
   "source": [
    "## Parte 4: Evaluación mediante Benchmarking (6 puntos)  \n",
    "1. **Definición de una Ground Truth** (2 puntos): Se deben seleccionar al menos 10 consultas y definir manualmente los documentos relevantes.  \n",
    "2. **Cálculo de precisión y recall para cada técnica** (2 puntos): Implementar evaluación con métricas estándar.  \n",
    "3. **Análisis comparativo** (2 puntos): Comparar los resultados de las tres técnicas y justificar su efectividad con base en los resultados.\n"
   ],
   "id": "91974ad88e6a4870"
  },
  {
   "metadata": {},
   "cell_type": "markdown",
   "source": [
    "## Entrega y Formato  \n",
    "Cada estudiante debe entregar un **Jupyter Notebook** con el código y análisis bien documentado. Se evaluará claridad, calidad del código y profundidad del análisis.\n",
    "\n",
    "## Criterios de Evaluación (20 puntos)  \n",
    "| Sección | Puntos |\n",
    "|---------|--------|\n",
    "| Carga y preprocesamiento del corpus | 4 |\n",
    "| Indexación y representación vectorial | 4 |\n",
    "| Implementación de tres técnicas de recuperación | 6 |\n",
    "| Evaluación con benchmarking (ground truth, precisión y recall) | 6 |\n",
    "| **Total** | **20** |\n"
   ],
   "id": "aa788a12e232a324"
  },
  {
   "metadata": {},
   "cell_type": "markdown",
   "source": [
    "## Observaciones  \n",
    "- Se recomienda utilizar `scikit-learn`, `nltk`, `gensim`, `sentence-transformers` y `faiss` para la implementación.  \n",
    "- Se valorará la optimización del código y la presentación clara de los resultados.  \n",
    "- No se aceptan notebooks con errores de ejecución. "
   ],
   "id": "221979ab529e8f73"
  }
 ],
 "metadata": {
  "kernelspec": {
   "display_name": "Python 3",
   "language": "python",
   "name": "python3"
  },
  "language_info": {
   "codemirror_mode": {
    "name": "ipython",
    "version": 2
   },
   "file_extension": ".py",
   "mimetype": "text/x-python",
   "name": "python",
   "nbconvert_exporter": "python",
   "pygments_lexer": "ipython2",
   "version": "2.7.6"
  }
 },
 "nbformat": 4,
 "nbformat_minor": 5
}
